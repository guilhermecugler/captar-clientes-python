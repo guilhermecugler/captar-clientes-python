{
 "cells": [
  {
   "cell_type": "code",
   "execution_count": null,
   "metadata": {},
   "outputs": [],
   "source": [
    "import pandas as pd\n",
    "import re\n",
    "import numpy as np\n",
    "# Importar os módulos do Selenium\n",
    "from selenium import webdriver\n",
    "from selenium.webdriver.common.by import By\n",
    "import time\n",
    "from selenium.webdriver.support import expected_conditions as EC\n",
    "from selenium.webdriver.support.ui import WebDriverWait\n",
    "from selenium.webdriver.common.keys import Keys\n",
    "from selenium.webdriver.common.action_chains import ActionChains\n",
    "import pyautogui\n",
    "from selenium.common.exceptions import NoSuchElementException\n",
    "import requests\n",
    "planilha = pd.read_excel(\"all.xlsx\")\n",
    "insta_message = []\n",
    "face_message = []\n",
    "others_websites = []\n",
    "find_instagram = []\n",
    "notfind_instagram = []\n"
   ]
  },
  {
   "attachments": {},
   "cell_type": "markdown",
   "metadata": {},
   "source": [
    "##### Filtros"
   ]
  },
  {
   "cell_type": "code",
   "execution_count": null,
   "metadata": {},
   "outputs": [],
   "source": [
    "planilha = planilha[~planilha['Place Name'].str.contains('Magazine|Kalunga|renner|Americanas|Americana|americanas|americana|Mercado Livre|mercado livre|shopee|Shopee|Renner', na=False)]\n",
    "planilha = planilha.drop_duplicates(subset='Place Name')"
   ]
  },
  {
   "attachments": {},
   "cell_type": "markdown",
   "metadata": {},
   "source": [
    "##### Identificar se ele possui Instagram/Facebook/Site"
   ]
  },
  {
   "cell_type": "code",
   "execution_count": null,
   "metadata": {},
   "outputs": [],
   "source": [
    "#Instagram\n",
    "for i in range(len(planilha)):\n",
    "    first_row = planilha.iloc[i]\n",
    "    url = re.search(r'(www\\.instagram\\.com)', str(first_row[\"Website\"]))\n",
    "\n",
    "    if url:\n",
    "        insta_message.append(first_row[\"Website\"])\n",
    "        planilha[\"Website\"].replace(to_replace=first_row[\"Website\"],value=\"Done\",inplace=True)\n",
    "\n",
    "    else:\n",
    "        pass\n",
    "#Facebook\n",
    "for i in range(len(planilha)):\n",
    "    first_row = planilha.iloc[i]\n",
    "    url = re.search(r'(www\\.facebook\\.com)', str(first_row[\"Website\"]))\n",
    "\n",
    "    if url:\n",
    "        face_message.append(first_row[\"Website\"])\n",
    "        planilha[\"Website\"].replace(to_replace=first_row[\"Website\"],value=\"Done\",inplace=True)\n",
    "\n",
    "    else:\n",
    "        pass\n",
    "\n",
    "#Other Websites\n",
    "for i in range(len(planilha)):\n",
    "    first_row = planilha.iloc[i]\n",
    "    url2 = re.search(r'.www.', str(first_row[\"Website\"]))\n",
    "\n",
    "    if url2:\n",
    "        others_websites.append(first_row[\"Website\"])\n",
    "        planilha[\"Website\"].replace(to_replace=first_row[\"Website\"],value=\"Done\",inplace=True)\n",
    "    else:\n",
    "        pass"
   ]
  },
  {
   "attachments": {},
   "cell_type": "markdown",
   "metadata": {},
   "source": [
    "#### verificar se os sites possuem instagram"
   ]
  },
  {
   "cell_type": "code",
   "execution_count": null,
   "metadata": {},
   "outputs": [],
   "source": [
    "for g in others_websites:\n",
    "    try:\n",
    "        response = requests.get(g)\n",
    "\n",
    "        if response.status_code == 200:\n",
    "            website = response.text\n",
    "            \n",
    "            url = re.search(r'www\\.instagram\\.com\\/[A-Za-z0-9]+\\/', website)\n",
    "\n",
    "            if url:\n",
    "                find_instagram.append(url)\n",
    "                #planilha[\"Website\"].replace(to_replace=first_row[\"Website\"],value=\"Done\",inplace=True)\n",
    "\n",
    "            else:\n",
    "                notfind_instagram.append(g)\n",
    "                pass    \n",
    "        else:\n",
    "            print(\"Error: Could not retrieve website\", g)\n",
    "    except:\n",
    "        print(\"critical error\", g)"
   ]
  },
  {
   "cell_type": "code",
   "execution_count": null,
   "metadata": {},
   "outputs": [],
   "source": [
    "for h in find_instagram:\n",
    "    url = re.search(r'www\\.instagram\\.com\\/[A-Za-z0-9]+\\/', str(h))\n",
    "\n",
    "    if url:\n",
    "        matched_string = url.group()\n",
    "        insta_message.append(matched_string)\n",
    "    else:\n",
    "        print(\"error\")"
   ]
  },
  {
   "attachments": {},
   "cell_type": "markdown",
   "metadata": {},
   "source": [
    "##### Nomes e numeros"
   ]
  },
  {
   "cell_type": "code",
   "execution_count": null,
   "metadata": {},
   "outputs": [],
   "source": [
    "list_numbers = []\n",
    "for i in range(len(planilha)):\n",
    "    first_row = planilha.iloc[i]\n",
    "    if not pd.isnull(first_row[\"Phone\"]):\n",
    "        list_numbers.append(first_row[\"Phone\"])\n",
    "        planilha[\"Phone\"].replace(to_replace=first_row[\"Phone\"],value=\"Done\",inplace=True)"
   ]
  },
  {
   "attachments": {},
   "cell_type": "markdown",
   "metadata": {},
   "source": [
    "Filtragem dos numeros"
   ]
  },
  {
   "cell_type": "code",
   "execution_count": null,
   "metadata": {},
   "outputs": [],
   "source": [
    "list_numbers = [re.sub(r'[^\\d]+', '', string) for string in list_numbers]\n",
    "list_numbers = [item for item in list_numbers if item]"
   ]
  },
  {
   "attachments": {},
   "cell_type": "markdown",
   "metadata": {},
   "source": [
    "##### Verificar todos os sites que não funcionou nem o numero ou o Site"
   ]
  },
  {
   "cell_type": "code",
   "execution_count": null,
   "metadata": {},
   "outputs": [],
   "source": [
    "nada_encontrado = []\n",
    "for i in range(len(planilha)):\n",
    "    first_row = planilha.iloc[i]\n",
    "    if first_row[\"Phone\"] != \"Done\":\n",
    "        if first_row[\"Website\"] != \"Done\":\n",
    "            nada_encontrado.append(first_row[\"Place Name\"])\n",
    "            #colocar em um dicionario com as principais informações -> fazer alguma coisa para achar esses locais\n"
   ]
  },
  {
   "attachments": {},
   "cell_type": "markdown",
   "metadata": {},
   "source": [
    "# Processos"
   ]
  },
  {
   "attachments": {},
   "cell_type": "markdown",
   "metadata": {},
   "source": [
    "Enviar mensagens Instagram"
   ]
  },
  {
   "cell_type": "code",
   "execution_count": null,
   "metadata": {},
   "outputs": [],
   "source": [
    "#base - Entrar no Instagram\n",
    "\n",
    "options = webdriver.ChromeOptions()\n",
    "options.add_experimental_option('excludeSwitches', ['enable-logging'])\n",
    "driver = webdriver.Chrome(options=options)\n",
    "\n",
    "# Abrir o site do Instagram e fazer login\n",
    "driver.get(\"https://www.instagram.com/\")\n",
    "time.sleep(4)\n",
    "driver.find_element(By.NAME, \"username\").send_keys(\"COLOCAR SEU LOGIN\")\n",
    "\n",
    "driver.find_element(By.NAME, \"password\").send_keys(\"COLOCAR SUA SENHA\")\n",
    "\n",
    "driver.find_element(By.XPATH, '//button[@type=\"submit\"]').click()\n",
    "time.sleep(5)\n",
    "try:\n",
    "    driver.find_element(By.XPATH, '/html/body/div[2]/div/div/div/div[1]/div/div/div/div[1]/div[1]/div[2]/section/main/div/div/div/div/button').click()\n",
    "    time.sleep(5)\n",
    "except:\n",
    "    pass\n",
    "driver.find_element(By.XPATH, '/html/body/div[2]/div/div/div/div[2]/div/div/div[1]/div/div[2]/div/div/div/div/div[2]/div/div/div[3]/button[2]').click()\n",
    "time.sleep(3)\n",
    "print(\"bora bora\")\n",
    "for j in range(len(insta_message)):\n",
    "    print(j)\n",
    "    try:\n",
    "        driver.get(insta_message[j])\n",
    "        time.sleep(3)\n",
    "    except: #terminar essa parte\n",
    "        location = pyautogui.locateOnScreen(\"reload.png\", grayscale=False, confidence=.7)\n",
    "        pyautogui.moveTo(location)\n",
    "        pyautogui.moveRel(80, 0)\n",
    "        pyautogui.click()\n",
    "        #add control a in other way\n",
    "        pyautogui.hotkey('delete')\n",
    "        time.sleep(1)\n",
    "        pyautogui.typewrite(insta_message[j])\n",
    "        pyautogui.hotkey(\"enter\")\n",
    "        time.sleep(4)       \n",
    "    try:\n",
    "        try:\n",
    "            location = pyautogui.locateOnScreen(\"follow.png\", grayscale=False, confidence=.7)\n",
    "            pyautogui.moveTo(location)\n",
    "            pyautogui.click()\n",
    "            time.sleep(1)\n",
    "        except:\n",
    "            pass\n",
    "        try:\n",
    "            location2 = pyautogui.locateOnScreen(\"message.png\", grayscale=False, confidence=.7)\n",
    "            pyautogui.moveTo(location2)\n",
    "            pyautogui.click()\n",
    "            time.sleep(5)\n",
    "            try:\n",
    "                # mensagem personalizada para cada loja\n",
    "                name = re.search(r'\\/([a-zA-Z0-9_]+)\\/?$', insta_message[j])\n",
    "                if name:\n",
    "                    name = name.group(1)\n",
    "                name = \"Ola, \" + str(name) + \", \" + \"Mensagem\"\n",
    "            except:\n",
    "                name = \"Ola, \"+ \"Mensagem\"\n",
    "\n",
    "            #find first the local for click and type\n",
    "            pyautogui.typewrite(name)\n",
    "            #pyautogui.hotkey('enter')\n",
    "            time.sleep(2)\n",
    "        except:\n",
    "            pass\n",
    "\n",
    "    except:\n",
    "        print(\"erro\", j)\n",
    "        pass\n",
    "\n",
    "    "
   ]
  },
  {
   "attachments": {},
   "cell_type": "markdown",
   "metadata": {},
   "source": [
    "Enviar mensagens WhatsApp"
   ]
  },
  {
   "cell_type": "code",
   "execution_count": null,
   "metadata": {},
   "outputs": [],
   "source": [
    "#identifcar onde está o google\n",
    "location = pyautogui.locateOnScreen(\"chrome.png\", grayscale=False, confidence=.7)\n",
    "pyautogui.moveTo(location)\n",
    "pyautogui.click()\n",
    "time.sleep(2)\n",
    "for i in range(len(list_numbers)):\n",
    "    print(i)\n",
    "    #identifcar onde abrir a nova aba\n",
    "    location = pyautogui.locateOnScreen(\"new window.png\", grayscale=False, confidence=.7)\n",
    "    pyautogui.moveTo(location)\n",
    "    pyautogui.click()\n",
    "    time.sleep(2)\n",
    "    #Escrever o https://wa.me/55 + o numero da empresa\n",
    "    pyautogui.typewrite(\"https://wa.me/55\" + str(list_numbers[i]))\n",
    "    time.sleep(1)\n",
    "    pyautogui.hotkey(\"enter\")\n",
    "    time.sleep(2)\n",
    "    #Clicar em continue to chat\n",
    "    location = pyautogui.locateOnScreen(\"continue to chat.png\", grayscale=False, confidence=.7)\n",
    "    pyautogui.moveTo(location)\n",
    "    pyautogui.click()\n",
    "    time.sleep(2)\n",
    "    location = pyautogui.locateOnScreen(\"iniciate message.png\", grayscale=False, confidence=.7)\n",
    "    pyautogui.moveTo(location)\n",
    "    pyautogui.click()\n",
    "    time.sleep(7)\n",
    "    pyautogui.typewrite(\"ola amigo\")\n",
    "    #pyautogui.hotkey(\"enter\")\n",
    "    time.sleep(1)\n",
    "    #except:\n",
    "        #print(i, \"algum erro aconteceu\")"
   ]
  }
 ],
 "metadata": {
  "kernelspec": {
   "display_name": "Python 3",
   "language": "python",
   "name": "python3"
  },
  "language_info": {
   "codemirror_mode": {
    "name": "ipython",
    "version": 3
   },
   "file_extension": ".py",
   "mimetype": "text/x-python",
   "name": "python",
   "nbconvert_exporter": "python",
   "pygments_lexer": "ipython3",
   "version": "3.11.1"
  },
  "orig_nbformat": 4,
  "vscode": {
   "interpreter": {
    "hash": "d7ee2458dd6811a0e0a4b89f979d48479376168e30d2d05db73c3b1e11b21d58"
   }
  }
 },
 "nbformat": 4,
 "nbformat_minor": 2
}
